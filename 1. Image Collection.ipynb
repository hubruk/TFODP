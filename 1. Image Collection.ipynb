{
 "cells": [
  {
   "cell_type": "markdown",
   "metadata": {},
   "source": [
    "# 1. Import Dependencies"
   ]
  },
  {
   "cell_type": "code",
   "execution_count": 10,
   "metadata": {},
   "outputs": [],
   "source": [
    "#!pip install opencv-python"
   ]
  },
  {
   "cell_type": "code",
   "execution_count": 11,
   "metadata": {},
   "outputs": [],
   "source": [
    "# Import opencv\n",
    "import cv2 \n",
    "\n",
    "# Import uuid\n",
    "import uuid\n",
    "\n",
    "# Import Operating System\n",
    "import os\n",
    "\n",
    "# Import time\n",
    "import time"
   ]
  },
  {
   "cell_type": "markdown",
   "metadata": {},
   "source": [
    "# 2. Define Images to Collect"
   ]
  },
  {
   "cell_type": "code",
   "execution_count": 12,
   "metadata": {},
   "outputs": [],
   "source": [
    "labels = ['human']\n",
    "number_imgs = 1"
   ]
  },
  {
   "cell_type": "markdown",
   "metadata": {},
   "source": [
    "# 3. Setup Folders "
   ]
  },
  {
   "cell_type": "code",
   "execution_count": 13,
   "metadata": {},
   "outputs": [],
   "source": [
    "IMAGES_PATH = os.path.join('Tensorflow', 'workspace', 'images', 'collectedimages')"
   ]
  },
  {
   "cell_type": "code",
   "execution_count": 14,
   "metadata": {},
   "outputs": [],
   "source": [
    "if not os.path.exists(IMAGES_PATH):\n",
    "    if os.name == 'posix':\n",
    "        !mkdir -p {IMAGES_PATH}\n",
    "    if os.name == 'nt':\n",
    "         !mkdir {IMAGES_PATH}\n",
    "for label in labels:\n",
    "    path = os.path.join(IMAGES_PATH, label)\n",
    "    if not os.path.exists(path):\n",
    "        !mkdir {path}"
   ]
  },
  {
   "cell_type": "markdown",
   "metadata": {},
   "source": [
    "# 4. Capture Images"
   ]
  },
  {
   "cell_type": "code",
   "execution_count": 18,
   "metadata": {
    "scrolled": true
   },
   "outputs": [
    {
     "name": "stdout",
     "output_type": "stream",
     "text": [
      "Collecting images for human\n",
      "Collecting image 0\n",
      "True ret\n",
      " [[[15  1  7]\n",
      "  [15  1  7]\n",
      "  [14  0  6]\n",
      "  ...\n",
      "  [23  0  6]\n",
      "  [24  0  7]\n",
      "  [24  0  8]]\n",
      "\n",
      " [[14  1  6]\n",
      "  [13  0  5]\n",
      "  [13  0  5]\n",
      "  ...\n",
      "  [23  0  6]\n",
      "  [23  0  6]\n",
      "  [24  0  8]]\n",
      "\n",
      " [[13  1  6]\n",
      "  [12  0  5]\n",
      "  [11  0  4]\n",
      "  ...\n",
      "  [22  0  6]\n",
      "  [21  0  6]\n",
      "  [22  0  8]]\n",
      "\n",
      " ...\n",
      "\n",
      " [[12  1  7]\n",
      "  [11  0  6]\n",
      "  [11  0  6]\n",
      "  ...\n",
      "  [12  0  6]\n",
      "  [12  0  6]\n",
      "  [12  0  6]]\n",
      "\n",
      " [[12  1  7]\n",
      "  [11  0  6]\n",
      "  [11  0  6]\n",
      "  ...\n",
      "  [12  0  6]\n",
      "  [12  0  6]\n",
      "  [11  0  5]]\n",
      "\n",
      " [[12  0  6]\n",
      "  [12  0  6]\n",
      "  [12  0  6]\n",
      "  ...\n",
      "  [12  0  6]\n",
      "  [11  0  5]\n",
      "  [11  0  5]]] frame\n",
      " ec570717-73e9-11ec-9781-ac1203fce657\n"
     ]
    }
   ],
   "source": [
    "for label in labels:\n",
    "    cap = cv2.VideoCapture(0)\n",
    "    print('Collecting images for {}'.format(label))\n",
    "    time.sleep(5)\n",
    "    for imgnum in range(number_imgs):\n",
    "        print('Collecting image {}'.format(imgnum))\n",
    "        ret, frame = cap.read()\n",
    "        print(ret,'ret\\n',frame,'frame\\n',str(uuid.uuid1()))\n",
    "        imgname = os.path.join(IMAGES_PATH,label,label+'.'+'{}.jpg'.format(str(uuid.uuid1())))\n",
    "        cv2.imwrite(imgname, frame)\n",
    "        cv2.imshow('frame', frame)\n",
    "        time.sleep(4)\n",
    "\n",
    "        if cv2.waitKey(1) & 0xFF == ord('q'):\n",
    "            break\n",
    "cap.release()\n",
    "cv2.destroyAllWindows()"
   ]
  },
  {
   "cell_type": "markdown",
   "metadata": {},
   "source": [
    "# 5. Image Labelling"
   ]
  },
  {
   "cell_type": "code",
   "execution_count": 9,
   "metadata": {},
   "outputs": [
    {
     "name": "stdout",
     "output_type": "stream",
     "text": [
      "Requirement already satisfied: pyqt5 in d:\\github\\tfodp\\tfod\\lib\\site-packages (5.15.6)\n",
      "Requirement already satisfied: lxml in d:\\github\\tfodp\\tfod\\lib\\site-packages (4.7.1)\n",
      "Requirement already satisfied: PyQt5-Qt5>=5.15.2 in d:\\github\\tfodp\\tfod\\lib\\site-packages (from pyqt5) (5.15.2)\n",
      "Requirement already satisfied: PyQt5-sip<13,>=12.8 in d:\\github\\tfodp\\tfod\\lib\\site-packages (from pyqt5) (12.9.0)\n"
     ]
    }
   ],
   "source": [
    "#!pip install --upgrade pyqt5 lxml"
   ]
  },
  {
   "cell_type": "code",
   "execution_count": 8,
   "metadata": {
    "collapsed": true
   },
   "outputs": [
    {
     "name": "stdout",
     "output_type": "stream",
     "text": [
      "Package                      Version\n",
      "---------------------------- -------------------\n",
      "absl-py                      0.12.0\n",
      "anyio                        3.3.4\n",
      "appdirs                      1.4.4\n",
      "argon2-cffi                  21.1.0\n",
      "astunparse                   1.6.3\n",
      "attrs                        21.2.0\n",
      "Babel                        2.9.1\n",
      "backcall                     0.2.0\n",
      "bleach                       4.1.0\n",
      "cachetools                   4.2.1\n",
      "certifi                      2020.12.5\n",
      "cffi                         1.15.0\n",
      "chardet                      4.0.0\n",
      "clang                        5.0\n",
      "colorama                     0.4.4\n",
      "debugpy                      1.5.1\n",
      "decorator                    5.1.0\n",
      "defusedxml                   0.7.1\n",
      "distlib                      0.3.1\n",
      "entrypoints                  0.3\n",
      "filelock                     3.0.12\n",
      "flatbuffers                  1.12\n",
      "gast                         0.4.0\n",
      "google-auth                  1.29.0\n",
      "google-auth-oauthlib         0.4.4\n",
      "google-pasta                 0.2.0\n",
      "grpcio                       1.41.0\n",
      "h5py                         3.1.0\n",
      "idna                         2.10\n",
      "ipykernel                    6.5.0\n",
      "ipython                      7.29.0\n",
      "ipython-genutils             0.2.0\n",
      "jedi                         0.18.0\n",
      "Jinja2                       3.0.2\n",
      "joblib                       1.0.1\n",
      "json5                        0.9.6\n",
      "jsonschema                   4.2.1\n",
      "jupyter-client               7.0.6\n",
      "jupyter-core                 4.9.1\n",
      "jupyter-server               1.11.2\n",
      "jupyterlab                   3.2.2\n",
      "jupyterlab-pygments          0.1.2\n",
      "jupyterlab-server            2.8.2\n",
      "keras                        2.7.0\n",
      "keras-nightly                2.5.0.dev2021032900\n",
      "Keras-Preprocessing          1.1.2\n",
      "libclang                     12.0.0\n",
      "lxml                         4.7.1\n",
      "Markdown                     3.3.4\n",
      "MarkupSafe                   2.0.1\n",
      "matplotlib-inline            0.1.3\n",
      "mistune                      0.8.4\n",
      "nbclassic                    0.3.4\n",
      "nbclient                     0.5.5\n",
      "nbconvert                    6.2.0\n",
      "nbformat                     5.1.3\n",
      "nest-asyncio                 1.5.1\n",
      "notebook                     6.4.5\n",
      "numpy                        1.19.5\n",
      "oauthlib                     3.1.0\n",
      "opencv-python                4.5.4.60\n",
      "opencv-python-headless       4.5.4.58\n",
      "opt-einsum                   3.3.0\n",
      "packaging                    21.2\n",
      "pandocfilters                1.5.0\n",
      "parso                        0.8.2\n",
      "pickleshare                  0.7.5\n",
      "pip                          21.2.4\n",
      "pipenv                       2020.11.15\n",
      "prometheus-client            0.12.0\n",
      "prompt-toolkit               3.0.22\n",
      "protobuf                     3.15.8\n",
      "pudb                         2021.2.2\n",
      "pyasn1                       0.4.8\n",
      "pyasn1-modules               0.2.8\n",
      "pycparser                    2.21\n",
      "Pygments                     2.10.0\n",
      "pyparsing                    2.4.7\n",
      "PyQt5                        5.15.6\n",
      "PyQt5-Qt5                    5.15.2\n",
      "PyQt5-sip                    12.9.0\n",
      "pyrsistent                   0.18.0\n",
      "python-dateutil              2.8.2\n",
      "pytz                         2021.3\n",
      "pywin32                      302\n",
      "pywinpty                     1.1.5\n",
      "pyzmq                        22.3.0\n",
      "requests                     2.25.1\n",
      "requests-oauthlib            1.3.0\n",
      "rsa                          4.7.2\n",
      "scikit-learn                 0.24.1\n",
      "scipy                        1.6.2\n",
      "Send2Trash                   1.8.0\n",
      "setuptools                   58.1.0\n",
      "six                          1.15.0\n",
      "sniffio                      1.2.0\n",
      "tensorboard                  2.6.0\n",
      "tensorboard-data-server      0.6.0\n",
      "tensorboard-plugin-wit       1.8.0\n",
      "tensorflow                   2.6.0\n",
      "tensorflow-estimator         2.7.0\n",
      "tensorflow-gpu               2.7.0\n",
      "tensorflow-io-gcs-filesystem 0.22.0"
     ]
    },
    {
     "name": "stderr",
     "output_type": "stream",
     "text": [
      "WARNING: You are using pip version 21.2.4; however, version 21.3.1 is available.\n",
      "You should consider upgrading via the 'C:\\Program Files\\Python394\\python.exe -m pip install --upgrade pip' command.\n"
     ]
    },
    {
     "name": "stdout",
     "output_type": "stream",
     "text": [
      "\n",
      "termcolor                    1.1.0\n",
      "terminado                    0.12.1\n",
      "testpath                     0.5.0\n",
      "threadpoolctl                2.1.0\n",
      "tornado                      6.1\n",
      "tqdm                         4.62.3\n",
      "traitlets                    5.1.1\n",
      "typing-extensions            3.7.4.3\n",
      "urllib3                      1.26.4\n",
      "urwid                        2.1.2\n",
      "urwid-readline               0.13\n",
      "virtualenv                   20.4.3\n",
      "virtualenv-clone             0.5.4\n",
      "wcwidth                      0.2.5\n",
      "webencodings                 0.5.1\n",
      "websocket-client             1.2.1\n",
      "Werkzeug                     1.0.1\n",
      "wheel                        0.36.2\n",
      "wrapt                        1.12.1\n"
     ]
    }
   ],
   "source": [
    "#!pip list"
   ]
  },
  {
   "cell_type": "code",
   "execution_count": 16,
   "metadata": {},
   "outputs": [],
   "source": [
    "LABELIMG_PATH = os.path.join('Tensorflow', 'labelimg')"
   ]
  },
  {
   "cell_type": "code",
   "execution_count": 11,
   "metadata": {},
   "outputs": [],
   "source": [
    "\"\"\"if not os.path.exists(LABELIMG_PATH):\n",
    "    !mkdir {LABELIMG_PATH}\n",
    "    !git clone https://github.com/tzutalin/labelImg {LABELIMG_PATH}\"\"\""
   ]
  },
  {
   "cell_type": "code",
   "execution_count": 12,
   "metadata": {},
   "outputs": [],
   "source": [
    "\"\"\"if os.name == 'posix':\n",
    "    !make qt5py3\n",
    "if os.name =='nt':\n",
    "    !cd {LABELIMG_PATH} && pyrcc5 -o libs/resources.py resources.qrc\"\"\""
   ]
  },
  {
   "cell_type": "code",
   "execution_count": 19,
   "metadata": {},
   "outputs": [
    {
     "name": "stdout",
     "output_type": "stream",
     "text": [
      "Image:D:\\GitHub\\TFODP\\Tensorflow\\workspace\\images\\test\\human.ec575544-73e9-11ec-974f-ac1203fce657.jpg -> Annotation:D:/GitHub/TFODP/Tensorflow/workspace/images/test/human.ec575544-73e9-11ec-974f-ac1203fce657.xml\n"
     ]
    }
   ],
   "source": [
    "!cd {LABELIMG_PATH} && python labelImg.py"
   ]
  },
  {
   "cell_type": "markdown",
   "metadata": {},
   "source": [
    "# 6. Move them into a Training and Testing Partition"
   ]
  },
  {
   "cell_type": "markdown",
   "metadata": {},
   "source": [
    "# OPTIONAL - 7. Compress them for Colab Training"
   ]
  },
  {
   "cell_type": "code",
   "execution_count": 20,
   "metadata": {},
   "outputs": [],
   "source": [
    "TRAIN_PATH = os.path.join('Tensorflow', 'workspace', 'images', 'train')\n",
    "TEST_PATH = os.path.join('Tensorflow', 'workspace', 'images', 'test')\n",
    "ARCHIVE_PATH = os.path.join('Tensorflow', 'workspace', 'images', 'archive.tar.gz')"
   ]
  },
  {
   "cell_type": "code",
   "execution_count": 21,
   "metadata": {},
   "outputs": [],
   "source": [
    "!tar -czf {ARCHIVE_PATH} {TRAIN_PATH} {TEST_PATH}"
   ]
  },
  {
   "cell_type": "code",
   "execution_count": null,
   "metadata": {},
   "outputs": [],
   "source": []
  }
 ],
 "metadata": {
  "kernelspec": {
   "display_name": "tfod",
   "language": "python",
   "name": "tfod"
  },
  "language_info": {
   "codemirror_mode": {
    "name": "ipython",
    "version": 3
   },
   "file_extension": ".py",
   "mimetype": "text/x-python",
   "name": "python",
   "nbconvert_exporter": "python",
   "pygments_lexer": "ipython3",
   "version": "3.9.9"
  }
 },
 "nbformat": 4,
 "nbformat_minor": 2
}
